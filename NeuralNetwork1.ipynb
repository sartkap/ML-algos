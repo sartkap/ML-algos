{
 "cells": [
  {
   "cell_type": "code",
   "execution_count": 37,
   "metadata": {},
   "outputs": [
    {
     "name": "stdout",
     "output_type": "stream",
     "text": [
      "0.11730906190570581\n"
     ]
    }
   ],
   "source": [
    "import numpy as np\n",
    "import matplotlib as plt\n",
    "x=np.random.randn(500,1000)\n",
    "yt=np.random.randn(500,10)\n",
    "#print(x,y)\n",
    "w1=np.random.randn(1000,100)/100\n",
    "w2=np.random.randn(100,10)\n",
    "alpha = 0.00002\n",
    "loss = 0.00\n",
    "for i in range(200):\n",
    "    h=1.0/(1+np.exp(-np.matmul(x,w1)))\n",
    "    #print(h)\n",
    "    yp=np.matmul(h,w2)\n",
    "    loss=((yt-yp)*(yt-yp)).sum()\n",
    "    #print(loss)\n",
    "    grad_yp = 2*(yp-yt)\n",
    "    grad_w2 = np.matmul(np.transpose(h),grad_yp)\n",
    "    #print(grad_w2.shape)\n",
    "    grad_h=np.matmul(grad_yp,np.transpose(w2))\n",
    "    #print(grad_h.shape)\n",
    "    grad_a=grad_h*h*(1-h)\n",
    "    grad_w1=np.matmul(np.transpose(x),grad_a)\n",
    "    #print(grad_w1.shape)\n",
    "    w1=w1-alpha*grad_w1\n",
    "    w2=w2-alpha*grad_w2\n",
    "    #print(loss)\n",
    "print(loss)\n",
    "\n",
    "\n"
   ]
  },
  {
   "cell_type": "code",
   "execution_count": null,
   "metadata": {},
   "outputs": [],
   "source": []
  }
 ],
 "metadata": {
  "kernelspec": {
   "display_name": "Python 3",
   "language": "python",
   "name": "python3"
  },
  "language_info": {
   "codemirror_mode": {
    "name": "ipython",
    "version": 3
   },
   "file_extension": ".py",
   "mimetype": "text/x-python",
   "name": "python",
   "nbconvert_exporter": "python",
   "pygments_lexer": "ipython3",
   "version": "3.6.7"
  }
 },
 "nbformat": 4,
 "nbformat_minor": 2
}
