{
 "cells": [
  {
   "cell_type": "code",
   "execution_count": 103,
   "metadata": {
    "scrolled": true
   },
   "outputs": [
    {
     "name": "stdout",
     "output_type": "stream",
     "text": [
      "[[0.57696045]\n",
      " [0.88481726]]\n",
      "[[  0   0   0   0   0   0   0   0   0   0]\n",
      " [  0   1   5   6  10   9  13  16   5  18]\n",
      " [  0   5  25  30  50  45  65  80  25  90]\n",
      " [  0   6  30  36  60  54  78  96  30 108]\n",
      " [  0  10  50  60 100  90 130 160  50 180]\n",
      " [  0   9  45  54  90  81 117 144  45 162]\n",
      " [  0  13  65  78 130 117 169 208  65 234]\n",
      " [  0  16  80  96 160 144 208 256  80 288]\n",
      " [  0   5  25  30  50  45  65  80  25  90]\n",
      " [  0  18  90 108 180 162 234 288  90 324]]\n",
      "115.5399178101799\n"
     ]
    },
    {
     "data": {
      "text/plain": [
       "[<matplotlib.lines.Line2D at 0x7f0df92d7208>]"
      ]
     },
     "execution_count": 103,
     "metadata": {},
     "output_type": "execute_result"
    },
    {
     "data": {
      "image/png": "[encoded data removed]",
      "text/plain": [
       "<Figure size 432x288 with 1 Axes>"
      ]
     },
     "metadata": {},
     "output_type": "display_data"
    }
   ],
   "source": [
    "import numpy as np\n",
    "import matplotlib.pyplot as plt\n",
    "x = np.array([1,2,3,4,5,6,7,8,9,10])\n",
    "#print(x)\n",
    "y =np.array([0,1,5,6,10,9,13,16,5,18])[np.newaxis]\n",
    "#print(y)\n",
    "w=np.random.rand(2,1)\n",
    "print(w)\n",
    "#X=np.linspace(0,10,10)\n",
    "#print(X)\n",
    "y_p=w[0]*x + w[1]\n",
    "#print(y_p)\n",
    "#plt.scatter(x,y)\n",
    "#plt.show()\n",
    "#eps = 1\n",
    "print(np.transpose(y)*y)\n",
    "#print((y-y_p)*np.transpose(y-y_p))\n",
    "alpha = 0.0009\n",
    "\n",
    "for i in range(400):\n",
    "    grad_m=-2*((y-y_p)*x).sum()\n",
    "    grad_c=-2*((y-y_p)).sum()\n",
    "    y_p=w[0]*x + w[1]\n",
    "    w[0]=w[0]-alpha*grad_m\n",
    "    w[1]=w[1]-alpha*grad_c\n",
    "    loss=((y-y_p)*(y-y_p)).sum()\n",
    "print(loss)\n",
    "plt.scatter(x,y)\n",
    "plt.plot(x,y_p)    \n"
   ]
  },
  {
   "cell_type": "code",
   "execution_count": null,
   "metadata": {},
   "outputs": [],
   "source": []
  },
  {
   "cell_type": "code",
   "execution_count": null,
   "metadata": {},
   "outputs": [],
   "source": []
  }
 ],
 "metadata": {
  "kernelspec": {
   "display_name": "Python 3",
   "language": "python",
   "name": "python3"
  },
  "language_info": {
   "codemirror_mode": {
    "name": "ipython",
    "version": 3
   },
   "file_extension": ".py",
   "mimetype": "text/x-python",
   "name": "python",
   "nbconvert_exporter": "python",
   "pygments_lexer": "ipython3",
   "version": "3.6.7"
  }
 },
 "nbformat": 4,
 "nbformat_minor": 2
}
